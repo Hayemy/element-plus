{
  "nbformat": 4,
  "nbformat_minor": 0,
  "metadata": {
    "colab": {
      "provenance": [],
      "authorship_tag": "ABX9TyNw2GCXHnf3AmscdmkftqRc",
      "include_colab_link": true
    },
    "kernelspec": {
      "name": "python3",
      "display_name": "Python 3"
    },
    "language_info": {
      "name": "python"
    }
  },
  "cells": [
    {
      "cell_type": "markdown",
      "metadata": {
        "id": "view-in-github",
        "colab_type": "text"
      },
      "source": [
        "<a href=\"https://colab.research.google.com/github/Hayemy/element-plus/blob/master/TALLER1.ipynb\" target=\"_parent\"><img src=\"https://colab.research.google.com/assets/colab-badge.svg\" alt=\"Open In Colab\"/></a>"
      ]
    },
    {
      "cell_type": "code",
      "execution_count": 8,
      "metadata": {
        "colab": {
          "base_uri": "https://localhost:8080/"
        },
        "id": "-dv-jecHkvJ0",
        "outputId": "99cf5953-727d-4dbd-a80a-fc9b65369b63"
      },
      "outputs": [
        {
          "output_type": "stream",
          "name": "stdout",
          "text": [
            "1\n",
            "2\n",
            "3\n",
            "4\n",
            "5\n",
            "6\n",
            "7\n",
            "8\n",
            "9\n",
            "10\n"
          ]
        }
      ],
      "source": [
        "#Escribe un programa que imprima los números del 1 al 10 utilizando un bucle while.\n",
        "\n",
        "numero = 1\n",
        "\n",
        "while numero <= 10:\n",
        "    print(numero)\n",
        "    numero += 1\n",
        "\n",
        ""
      ]
    },
    {
      "cell_type": "code",
      "source": [
        "#Escribe un programa que calcule la suma de los primeros 100 números naturales utilizando un bucle while.\n",
        "\n",
        "numero = 1\n",
        "suma = 0\n",
        "\n",
        "while numero <= 100:\n",
        "    suma += numero\n",
        "    numero += 1\n",
        "\n",
        "print(suma)\n"
      ],
      "metadata": {
        "colab": {
          "base_uri": "https://localhost:8080/"
        },
        "id": "HFpJTisXmKpN",
        "outputId": "c470502c-9a9e-4464-a1d6-b6905592109a"
      },
      "execution_count": 21,
      "outputs": [
        {
          "output_type": "stream",
          "name": "stdout",
          "text": [
            "5050\n"
          ]
        }
      ]
    },
    {
      "cell_type": "code",
      "source": [
        "#Escribe un programa que solicite al usuario un número entero positivo y luego imprima los números del 1 hasta ese número utilizando un bucle while.\n",
        "\n",
        "numero = int(input(\"Sr. Usuario, introduzca un número entero positivo: \"))\n",
        "contador = 1\n",
        "\n",
        "while contador <= numero:\n",
        "    print(contador)\n",
        "    contador += 1\n",
        "\n",
        ""
      ],
      "metadata": {
        "colab": {
          "base_uri": "https://localhost:8080/"
        },
        "id": "RpAXVqmbmUn1",
        "outputId": "9621bd34-c159-43fc-9be5-961c132bc944"
      },
      "execution_count": 22,
      "outputs": [
        {
          "output_type": "stream",
          "name": "stdout",
          "text": [
            "Por favor, introduce un número entero positivo: 30\n",
            "1\n",
            "2\n",
            "3\n",
            "4\n",
            "5\n",
            "6\n",
            "7\n",
            "8\n",
            "9\n",
            "10\n",
            "11\n",
            "12\n",
            "13\n",
            "14\n",
            "15\n",
            "16\n",
            "17\n",
            "18\n",
            "19\n",
            "20\n",
            "21\n",
            "22\n",
            "23\n",
            "24\n",
            "25\n",
            "26\n",
            "27\n",
            "28\n",
            "29\n",
            "30\n"
          ]
        }
      ]
    },
    {
      "cell_type": "code",
      "source": [
        "#Escribe un programa que imprima los primeros 10 números pares utilizando un bucle while.\n",
        "\n",
        "numero = 2\n",
        "\n",
        "while numero <= 20:\n",
        "    print(numero)\n",
        "    numero += 2\n",
        ""
      ],
      "metadata": {
        "colab": {
          "base_uri": "https://localhost:8080/"
        },
        "id": "LSJ2TtjSnJBd",
        "outputId": "0ba6227d-e49c-4905-edbf-775fecf1d157"
      },
      "execution_count": 23,
      "outputs": [
        {
          "output_type": "stream",
          "name": "stdout",
          "text": [
            "2\n",
            "4\n",
            "6\n",
            "8\n",
            "10\n",
            "12\n",
            "14\n",
            "16\n",
            "18\n",
            "20\n"
          ]
        }
      ]
    },
    {
      "cell_type": "code",
      "source": [
        "#Escribe un programa que solicite al usuario un número entero y luego imprima los números pares desde 2 hasta ese número utilizando un bucle while.\n",
        "\n",
        "numero = int(input(\"Sr. Usuario, introduzca un número entero positivo: \"))\n",
        "\n",
        "while numero >= 2:\n",
        "    if numero % 2 == 0:\n",
        "        print(numero)\n",
        "    numero -= 1\n",
        "\n",
        ""
      ],
      "metadata": {
        "colab": {
          "base_uri": "https://localhost:8080/"
        },
        "id": "RLBomqxvnYLj",
        "outputId": "d263ad14-4d9e-43f9-9d39-6b48d2e4e192"
      },
      "execution_count": 24,
      "outputs": [
        {
          "output_type": "stream",
          "name": "stdout",
          "text": [
            "Por favor, introduce un número entero: 50\n",
            "50\n",
            "48\n",
            "46\n",
            "44\n",
            "42\n",
            "40\n",
            "38\n",
            "36\n",
            "34\n",
            "32\n",
            "30\n",
            "28\n",
            "26\n",
            "24\n",
            "22\n",
            "20\n",
            "18\n",
            "16\n",
            "14\n",
            "12\n",
            "10\n",
            "8\n",
            "6\n",
            "4\n",
            "2\n"
          ]
        }
      ]
    },
    {
      "cell_type": "code",
      "source": [
        "#Escribe un programa que calcule el factorial de un número ingresado por el usuario utilizando un bucle while.\n",
        "\n",
        "numero = int(input(\"Sr. Usuario, introduzca un número entero positivo para calcuar su factorial: \"))\n",
        "factorial = 1\n",
        "\n",
        "while numero > 1:\n",
        "    factorial *= numero\n",
        "    numero -= 1\n",
        "\n",
        "print(\"El factorial de tu número es:\", factorial)\n",
        "\n"
      ],
      "metadata": {
        "colab": {
          "base_uri": "https://localhost:8080/"
        },
        "id": "-lhzhOYVn2Cr",
        "outputId": "d8f76f31-146d-418b-a90f-dd050e6af1c7"
      },
      "execution_count": 25,
      "outputs": [
        {
          "output_type": "stream",
          "name": "stdout",
          "text": [
            "Sr. Usuario, introduzca un número entero positivo para calcuar su factorial: 20\n",
            "El factorial de tu número es: 2432902008176640000\n"
          ]
        }
      ]
    },
    {
      "cell_type": "code",
      "source": [
        "#Escribe un programa que solicite al usuario un número entero positivo y luego imprima la suma de los dígitos de ese número utilizando un bucle while.\n",
        "\n",
        "numero = int(input(\"Sr. Usuario, introduzca un número entero positivo para conocer sus digitos: \"))\n",
        "suma = 0\n",
        "\n",
        "while numero > 0:\n",
        "    suma += numero % 10\n",
        "    numero //= 10\n",
        "\n",
        "print(\"La suma de los dígitos de este número son:\", suma)\n",
        "\n"
      ],
      "metadata": {
        "colab": {
          "base_uri": "https://localhost:8080/"
        },
        "id": "8ysXU-5zoeEU",
        "outputId": "a00edd86-4ce5-4e58-949a-34a504a92ba9"
      },
      "execution_count": 28,
      "outputs": [
        {
          "output_type": "stream",
          "name": "stdout",
          "text": [
            "Sr. Usuario, introduzca un número entero positivo para conocer sus digitos: 458\n",
            "La suma de los dígitos de este número son: 17\n"
          ]
        }
      ]
    },
    {
      "cell_type": "code",
      "source": [
        "#Escribe un programa que imprima los números del 1 al 100 que sean múltiplos de 3 utilizando un bucle while.\n",
        "\n",
        "numero = 3\n",
        "\n",
        "while numero <= 100:\n",
        "  if numero % 3 == 0:\n",
        "    print(numero)\n",
        "    numero += 3\n",
        "\n",
        ""
      ],
      "metadata": {
        "colab": {
          "base_uri": "https://localhost:8080/"
        },
        "id": "qr_axGwxpA10",
        "outputId": "5d26a843-3db1-49d0-8722-912190db809d"
      },
      "execution_count": 30,
      "outputs": [
        {
          "output_type": "stream",
          "name": "stdout",
          "text": [
            "3\n",
            "6\n",
            "9\n",
            "12\n",
            "15\n",
            "18\n",
            "21\n",
            "24\n",
            "27\n",
            "30\n",
            "33\n",
            "36\n",
            "39\n",
            "42\n",
            "45\n",
            "48\n",
            "51\n",
            "54\n",
            "57\n",
            "60\n",
            "63\n",
            "66\n",
            "69\n",
            "72\n",
            "75\n",
            "78\n",
            "81\n",
            "84\n",
            "87\n",
            "90\n",
            "93\n",
            "96\n",
            "99\n"
          ]
        }
      ]
    },
    {
      "cell_type": "code",
      "source": [
        "#Escribe un programa que solicite al usuario un número entero positivo y luego imprima los números impares desde 1 hasta ese número utilizando un bucle while.\n",
        "\n",
        "numero = int(input(\"Sr. Usuario, introduzca un número entero positivo para conocer sus números impares: \"))\n",
        "contador = 1\n",
        "\n",
        "while contador <= numero:\n",
        "    print(contador)\n",
        "    contador += 2\n",
        ""
      ],
      "metadata": {
        "colab": {
          "base_uri": "https://localhost:8080/"
        },
        "id": "3vj1qrdCpRkU",
        "outputId": "6785bc15-b61a-41c9-8b7f-ededd18a5c5f"
      },
      "execution_count": 31,
      "outputs": [
        {
          "output_type": "stream",
          "name": "stdout",
          "text": [
            "Sr. Usuario, introduzca un número entero positivo para conocer sus números impares: 30\n",
            "1\n",
            "3\n",
            "5\n",
            "7\n",
            "9\n",
            "11\n",
            "13\n",
            "15\n",
            "17\n",
            "19\n",
            "21\n",
            "23\n",
            "25\n",
            "27\n",
            "29\n"
          ]
        }
      ]
    },
    {
      "cell_type": "code",
      "source": [
        "#Escribe un programa que calcule la suma de los números pares del 1 al 100 utilizando un bucle while.\n",
        "\n",
        "numero = 2\n",
        "num_pares = 0\n",
        "\n",
        "while numero <= 100:\n",
        "    num_pares += numero\n",
        "    numero += 2\n",
        "\n",
        "print(\"Lasuma de los números pares del 1 al 100 es:\", num_pares)\n",
        "\n"
      ],
      "metadata": {
        "id": "h_YQRVaipipc"
      },
      "execution_count": null,
      "outputs": []
    },
    {
      "cell_type": "code",
      "source": [
        "#Escribe un programa que imprima los números del 10 al 1 en orden descendente utilizando un bucle while.\n",
        "\n",
        "numero = 10\n",
        "\n",
        "while numero >= 1:\n",
        "    print(numero)\n",
        "    numero -= 1\n",
        "\n",
        ""
      ],
      "metadata": {
        "colab": {
          "base_uri": "https://localhost:8080/"
        },
        "id": "YXLSSLRbqJ1s",
        "outputId": "65b9dee2-1fca-442a-ffd2-d06d70c85997"
      },
      "execution_count": 32,
      "outputs": [
        {
          "output_type": "stream",
          "name": "stdout",
          "text": [
            "10\n",
            "9\n",
            "8\n",
            "7\n",
            "6\n",
            "5\n",
            "4\n",
            "3\n",
            "2\n",
            "1\n"
          ]
        }
      ]
    },
    {
      "cell_type": "code",
      "source": [
        "#Escribe un programa que solicite al usuario un número entero positivo y luego imprima la secuencia de Fibonacci hasta ese número utilizando un bucle while.\n",
        "\n",
        "numero = int(input(\"Sr. Usuario, introduzca un número entero positivo: \"))\n",
        "\n",
        "a, b = 0, 1\n",
        "while a <= numero:\n",
        "    print(a)\n",
        "    a, b = b, a + b\n",
        "\n",
        ""
      ],
      "metadata": {
        "colab": {
          "base_uri": "https://localhost:8080/"
        },
        "id": "kft0IvbvqX2D",
        "outputId": "f3af3e2a-c711-45f8-b1d8-5f82274cf4a1"
      },
      "execution_count": 33,
      "outputs": [
        {
          "output_type": "stream",
          "name": "stdout",
          "text": [
            "Sr. Usuario, introduzca un número entero positivo: 40\n",
            "0\n",
            "1\n",
            "1\n",
            "2\n",
            "3\n",
            "5\n",
            "8\n",
            "13\n",
            "21\n",
            "34\n"
          ]
        }
      ]
    },
    {
      "cell_type": "code",
      "source": [
        "#Escribe un programa que solicite al usuario un número entero y luego imprima los primeros n términos de la secuencia de Fibonacci utilizando un bucle while.\n",
        "\n",
        "numero = int(input(\"Sr. Usuario, introduzca un número entero positivo \"))\n",
        "\n",
        "a, b = 0, 1\n",
        "contador = 0\n",
        "\n",
        "while contador < numero:\n",
        "    print(a, end=\" \")\n",
        "    a, b = b, a + b\n",
        "    contador += 1\n",
        "\n"
      ],
      "metadata": {
        "colab": {
          "base_uri": "https://localhost:8080/"
        },
        "id": "AtwYkPKyrAsU",
        "outputId": "4706c7d0-8197-4774-a9bc-e31180ffc51d"
      },
      "execution_count": 34,
      "outputs": [
        {
          "output_type": "stream",
          "name": "stdout",
          "text": [
            "Sr. Usuario, introduzca un número entero positivo 40\n",
            "0 1 1 2 3 5 8 13 21 34 55 89 144 233 377 610 987 1597 2584 4181 6765 10946 17711 28657 46368 75025 121393 196418 317811 514229 832040 1346269 2178309 3524578 5702887 9227465 14930352 24157817 39088169 63245986 "
          ]
        }
      ]
    },
    {
      "cell_type": "code",
      "source": [
        "#Escribe un programa que solicite al usuario un número entero positivo y luego imprima los divisores de ese número utilizando un bucle while.\n",
        "\n",
        "numero = int(input(\"Sr. Usuario, introduzca un número entero positivo para conocer sus divisores: \"))\n",
        "divisor = 1\n",
        "\n",
        "print(\"Los divisores de\", numero, \"son:\")\n",
        "\n",
        "while divisor <= numero:\n",
        "    if numero % divisor == 0:\n",
        "        print(divisor)\n",
        "    divisor += 1\n",
        "\n",
        ""
      ],
      "metadata": {
        "colab": {
          "base_uri": "https://localhost:8080/"
        },
        "id": "jytFkmSsrYLL",
        "outputId": "6f152982-8ba8-4a34-d8d3-c77285a38a8b"
      },
      "execution_count": 36,
      "outputs": [
        {
          "output_type": "stream",
          "name": "stdout",
          "text": [
            "Sr. Usuario, introduzca un número entero positivo para conocer sus divisores: 20\n",
            "Los divisores de 20 son:\n",
            "1\n",
            "2\n",
            "4\n",
            "5\n",
            "10\n",
            "20\n"
          ]
        }
      ]
    },
    {
      "cell_type": "code",
      "source": [
        "#Escribe un programa que imprima los números primos del 1 al 100 utilizando un bucle while.\n",
        "\n",
        "numero = 2\n",
        "\n",
        "while numero <= 100:\n",
        "    num_primo = True\n",
        "    divisor = 2\n",
        "\n",
        "    while divisor * divisor <= numero:\n",
        "        if numero % divisor == 0:\n",
        "            num_primo = False\n",
        "            break\n",
        "        divisor += 1\n",
        "\n",
        "    if num_primo:\n",
        "        print(numero)\n",
        "\n",
        "    numero += 1\n",
        ""
      ],
      "metadata": {
        "colab": {
          "base_uri": "https://localhost:8080/"
        },
        "id": "jKHdpOO9rZ5g",
        "outputId": "f31f2f0d-285b-4f29-b62e-e7cae1074d51"
      },
      "execution_count": 38,
      "outputs": [
        {
          "output_type": "stream",
          "name": "stdout",
          "text": [
            "2\n",
            "3\n",
            "5\n",
            "7\n",
            "11\n",
            "13\n",
            "17\n",
            "19\n",
            "23\n",
            "29\n",
            "31\n",
            "37\n",
            "41\n",
            "43\n",
            "47\n",
            "53\n",
            "59\n",
            "61\n",
            "67\n",
            "71\n",
            "73\n",
            "79\n",
            "83\n",
            "89\n",
            "97\n"
          ]
        }
      ]
    },
    {
      "cell_type": "code",
      "source": [
        "#Escribe un programa que solicite al usuario un número entero positivo y luego imprima si ese número es primo o no utilizando un bucle while.\n",
        "\n",
        "numero = int(input(\"Sr. Usuario, introduzca un número entero positivo: \"))\n",
        "\n",
        "if numero <= 1:\n",
        "    print(\"El número que haz ingresado no es primo.\")\n",
        "else:\n",
        "    num_primo = True\n",
        "    divisor = 2\n",
        "\n",
        "    while divisor < numero:\n",
        "        if numero % divisor == 0:\n",
        "            num_primo = False\n",
        "            break\n",
        "        divisor += 1\n",
        "\n",
        "    if num_primo:\n",
        "        print(\"El número que haz ingresado es primo.\")\n",
        "    else:\n",
        "        print(\"El número que haz ingresado no es primo.\")\n",
        ""
      ],
      "metadata": {
        "colab": {
          "base_uri": "https://localhost:8080/"
        },
        "id": "Sa-5gurYsM1U",
        "outputId": "a0879d88-7471-4a92-b4dc-f072f4a7e3a8"
      },
      "execution_count": 41,
      "outputs": [
        {
          "output_type": "stream",
          "name": "stdout",
          "text": [
            "Sr. Usuario, introduzca un número entero positivo: 5\n",
            "El número es primo.\n"
          ]
        }
      ]
    },
    {
      "cell_type": "markdown",
      "source": [],
      "metadata": {
        "id": "BYVbCIFhtW2R"
      }
    },
    {
      "cell_type": "code",
      "source": [
        "#Escribe un programa que solicite al usuario un número entero positivo y luego imprima la tabla de multiplicar de ese número utilizando un bucle while.\n",
        "\n",
        "numero = int(input(\"Sr. Usuario, introduzca un número entero positivo: \"))\n",
        "\n",
        "if numero <= 0:\n",
        "    print(\"El número que haz ingresado ingresado no es un número entero positivo.\")\n",
        "else:\n",
        "    multiplicador = 1\n",
        "\n",
        "    print(\"La tabla de multiplicar de\", numero, \"es:\")\n",
        "    while multiplicador <= 10:\n",
        "        print(numero, \"x\", multiplicador, \"=\", numero * multiplicador)\n",
        "        multiplicador += 1\n",
        "\n"
      ],
      "metadata": {
        "colab": {
          "base_uri": "https://localhost:8080/"
        },
        "id": "2QgEU1Krs36z",
        "outputId": "9cd130fc-8a4c-4133-9c4b-a64033e36926"
      },
      "execution_count": 44,
      "outputs": [
        {
          "output_type": "stream",
          "name": "stdout",
          "text": [
            "Sr. Usuario, introduzca un número entero positivo: 7\n",
            "La tabla de multiplicar de 7 es:\n",
            "7 x 1 = 7\n",
            "7 x 2 = 14\n",
            "7 x 3 = 21\n",
            "7 x 4 = 28\n",
            "7 x 5 = 35\n",
            "7 x 6 = 42\n",
            "7 x 7 = 49\n",
            "7 x 8 = 56\n",
            "7 x 9 = 63\n",
            "7 x 10 = 70\n"
          ]
        }
      ]
    },
    {
      "cell_type": "code",
      "source": [
        "from _typeshed import SupportsRichComparison\n",
        "#Escribe un programa que solicite al usuario un número entero positivo y luego imprima si ese número es un número perfecto utilizando un bucle while.\n",
        "\n",
        "numero = int(input(\"Sr. Usuario, introduzca un número entero positivo: \"))\n",
        "\n",
        "if numero <= 0:\n",
        "    print(\"El número que haz ingresado ingresado no es un número entero positivo.\")\n",
        "else:\n",
        "    suma = 0\n",
        "    divisor = 1\n",
        "\n",
        "    while divisor <= numero // 2:\n",
        "        if numero % divisor == 0:\n",
        "            suma += divisor\n",
        "        divisor += 1\n",
        "\n",
        "    if suma == numero:\n",
        "        print(\"El número\", numero, \"es un número perfecto.\")\n",
        "    else:\n",
        "        print(\"El número\", numero, \"no es un número perfecto.\")\n",
        "\n"
      ],
      "metadata": {
        "colab": {
          "base_uri": "https://localhost:8080/"
        },
        "id": "TQU0nyjAtaC1",
        "outputId": "f3279d11-6c53-4505-b41e-de14e500b2ba"
      },
      "execution_count": 45,
      "outputs": [
        {
          "output_type": "stream",
          "name": "stdout",
          "text": [
            "Sr. Usuario, introduzca un número entero positivo: 20\n",
            "El número 20 no es un número perfecto.\n"
          ]
        }
      ]
    },
    {
      "cell_type": "code",
      "source": [
        "#Escribe un programa que solicite al usuario un número entero positivo y luego imprima la suma de los primeros n términos de la serie armónica utilizando un bucle while.\n",
        "\n",
        "numero = int(input(\"Sr. Usuario, introduzca un número entero positivo: \"))\n",
        "\n",
        "if numero <= 0:\n",
        "    print(\"El número que haz ingresado ingresado no es un número entero positivo.\")\n",
        "else:\n",
        "    suma = 0\n",
        "    i = 1\n",
        "\n",
        "    while numero > 0:\n",
        "        suma += 1 / i\n",
        "        i += 1\n",
        "        numero -= 1\n",
        "\n",
        "    print(\"La suma de los primeros\", numero, \"términos de la serie armónica es:\", suma)\n"
      ],
      "metadata": {
        "colab": {
          "base_uri": "https://localhost:8080/"
        },
        "id": "YWYW3NXQuH_z",
        "outputId": "fa982d9d-059b-42ad-e528-1dda12c38e6f"
      },
      "execution_count": 46,
      "outputs": [
        {
          "output_type": "stream",
          "name": "stdout",
          "text": [
            "Sr. Usuario, introduzca un número entero positivo: 20\n",
            "La suma de los primeros 0 términos de la serie armónica es: 3.597739657143682\n"
          ]
        }
      ]
    },
    {
      "cell_type": "code",
      "source": [
        "#Escribe un programa que solicite al usuario un número entero positivo y luego imprima si ese número es un palíndromo o no utilizando un bucle while.\n",
        "\n",
        "numero = input(\"Sr. Usuario, introduzca un número entero positivo: \")\n",
        "\n",
        "if not numero.isdigit() or int(numero) <= 0:\n",
        "    print(\"El número que haz ingresado ingresado no es un número entero positivo.\")\n",
        "else:\n",
        "    num_palindromo = True\n",
        "    izquierda, derecha = 0, len(numero) - 1\n",
        "\n",
        "    while izquierda < derecha:\n",
        "        if numero[izquierda] != numero[derecha]:\n",
        "            num_palindromo = False\n",
        "            break\n",
        "        izquierda += 1\n",
        "        derecha -= 1\n",
        "\n",
        "    respuesta = \"es\" if num_palindromo else \"no es\"\n",
        "    print(f\"El número {numero} {respuesta} un palíndromo.\")\n",
        "\n",
        "\n"
      ],
      "metadata": {
        "colab": {
          "base_uri": "https://localhost:8080/"
        },
        "id": "MefDWCdyu2Wi",
        "outputId": "bad113ae-48fe-40e8-f6cd-47c4fe8f622a"
      },
      "execution_count": 50,
      "outputs": [
        {
          "output_type": "stream",
          "name": "stdout",
          "text": [
            "Sr. Usuario, introduzca un número entero positivo: 25\n",
            "El número 25 no es un palíndromo.\n"
          ]
        }
      ]
    }
  ]
}